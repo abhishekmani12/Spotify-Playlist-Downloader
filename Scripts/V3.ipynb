{
 "cells": [
  {
   "cell_type": "code",
   "execution_count": null,
   "id": "ecf94b9e-1788-4402-9d29-b4b26d9deb09",
   "metadata": {
    "tags": []
   },
   "outputs": [],
   "source": [
    "#SPOTIPY - FOR EXTRACTING SONG TITLES VIA SPOTIFY API"
   ]
  },
  {
   "cell_type": "code",
   "execution_count": null,
   "id": "b96f8f91-293d-4ba6-83e2-ae5ac8afcae1",
   "metadata": {},
   "outputs": [],
   "source": [
    "import tqdm"
   ]
  },
  {
   "cell_type": "code",
   "execution_count": 26,
   "id": "19f19a76-2dd6-4f21-af69-23f225510667",
   "metadata": {},
   "outputs": [
    {
     "name": "stdout",
     "output_type": "stream",
     "text": [
      "Requirement already satisfied: spotipy in c:\\users\\abhis\\anaconda3\\lib\\site-packages (2.20.0)\n",
      "Requirement already satisfied: redis>=3.5.3 in c:\\users\\abhis\\anaconda3\\lib\\site-packages (from spotipy) (4.3.4)\n",
      "Requirement already satisfied: requests>=2.25.0 in c:\\users\\abhis\\anaconda3\\lib\\site-packages (from spotipy) (2.27.1)\n",
      "Requirement already satisfied: six>=1.15.0 in c:\\users\\abhis\\anaconda3\\lib\\site-packages (from spotipy) (1.16.0)\n",
      "Requirement already satisfied: urllib3>=1.26.0 in c:\\users\\abhis\\anaconda3\\lib\\site-packages (from spotipy) (1.26.9)\n",
      "Requirement already satisfied: async-timeout>=4.0.2 in c:\\users\\abhis\\anaconda3\\lib\\site-packages (from redis>=3.5.3->spotipy) (4.0.2)\n",
      "Requirement already satisfied: deprecated>=1.2.3 in c:\\users\\abhis\\anaconda3\\lib\\site-packages (from redis>=3.5.3->spotipy) (1.2.13)\n",
      "Requirement already satisfied: packaging>=20.4 in c:\\users\\abhis\\anaconda3\\lib\\site-packages (from redis>=3.5.3->spotipy) (21.3)\n",
      "Requirement already satisfied: wrapt<2,>=1.10 in c:\\users\\abhis\\anaconda3\\lib\\site-packages (from deprecated>=1.2.3->redis>=3.5.3->spotipy) (1.12.1)\n",
      "Requirement already satisfied: pyparsing!=3.0.5,>=2.0.2 in c:\\users\\abhis\\anaconda3\\lib\\site-packages (from packaging>=20.4->redis>=3.5.3->spotipy) (3.0.4)\n",
      "Requirement already satisfied: idna<4,>=2.5 in c:\\users\\abhis\\anaconda3\\lib\\site-packages (from requests>=2.25.0->spotipy) (3.3)\n",
      "Requirement already satisfied: charset-normalizer~=2.0.0 in c:\\users\\abhis\\anaconda3\\lib\\site-packages (from requests>=2.25.0->spotipy) (2.0.4)\n",
      "Requirement already satisfied: certifi>=2017.4.17 in c:\\users\\abhis\\anaconda3\\lib\\site-packages (from requests>=2.25.0->spotipy) (2021.10.8)\n"
     ]
    }
   ],
   "source": [
    "!pip install spotipy"
   ]
  },
  {
   "cell_type": "code",
   "execution_count": 29,
   "id": "c2c13ed7-e768-4cb7-a06e-e210200fdf45",
   "metadata": {},
   "outputs": [],
   "source": [
    "import spotipy\n",
    "from spotipy.oauth2 import SpotifyClientCredentials\n",
    "from spotipy.oauth2 import SpotifyOAuth\n",
    "\n",
    "import pandas as pd"
   ]
  },
  {
   "cell_type": "code",
   "execution_count": 30,
   "id": "bd6379a1-1b71-49ae-9d23-1fbe5234564e",
   "metadata": {},
   "outputs": [],
   "source": [
    "scope='playlist-read-private'"
   ]
  },
  {
   "cell_type": "code",
   "execution_count": 31,
   "id": "50b17e2b-6cf0-4d27-896f-21e2c12ca1eb",
   "metadata": {},
   "outputs": [],
   "source": [
    " spotify = spotipy.Spotify(auth_manager=SpotifyOAuth(client_id='spotify client id', client_secret='spotify client secret id', redirect_uri='http://localhost:9000', scope=scope))"
   ]
  },
  {
   "cell_type": "code",
   "execution_count": 32,
   "id": "202c78d6-61c9-47b2-98af-12026388f5f3",
   "metadata": {},
   "outputs": [],
   "source": [
    "username=spotify.me()['id']\n",
    "playlistID='78Facqd3sp0ffs99iq7IdJ'"
   ]
  },
  {
   "cell_type": "code",
   "execution_count": 33,
   "id": "295f6dbf-b027-4467-8d22-fa34b176b65a",
   "metadata": {},
   "outputs": [],
   "source": [
    "TrackList=[]\n",
    "res=spotify.user_playlist_tracks(username, playlistID)"
   ]
  },
  {
   "cell_type": "code",
   "execution_count": 35,
   "id": "b4672b1c-e6a3-466d-8ed4-c776644a7ed5",
   "metadata": {},
   "outputs": [],
   "source": [
    "playlists=spotify.current_user_playlists()"
   ]
  },
  {
   "cell_type": "code",
   "execution_count": 36,
   "id": "a6de45a5-d4e8-4bd5-8f95-cce02c031d74",
   "metadata": {},
   "outputs": [
    {
     "data": {
      "text/plain": [
       "7"
      ]
     },
     "execution_count": 36,
     "metadata": {},
     "output_type": "execute_result"
    }
   ],
   "source": [
    "len(playlists)"
   ]
  },
  {
   "cell_type": "code",
   "execution_count": 39,
   "id": "6ec33fde-7f9e-4ad4-bf0a-fc612d81ce61",
   "metadata": {},
   "outputs": [
    {
     "name": "stdout",
     "output_type": "stream",
     "text": [
      "This Is Daft Punk\n",
      "43\n",
      " \n",
      "Soundtracks\n",
      "7\n",
      " \n",
      "Forza Horizon 5 Pulse (Official)\n",
      "22\n",
      " \n",
      "Kishore + MAN\n",
      "50\n",
      " \n",
      "Tamil Pop/Hip/Rap\n",
      "91\n",
      " \n",
      "Non-Stop-Pop FM (GTAV)\n",
      "41\n",
      " \n",
      "BUILT DIFFERENT\n",
      "60\n",
      " \n",
      "Racing\n",
      "13\n",
      " \n",
      "1970's Rock\n",
      "9\n",
      " \n",
      "20syl • 36 (Beats & Types)\n",
      "36\n",
      " \n",
      "Tamil\n",
      "50\n",
      " \n",
      "Fav\n",
      "179\n",
      " \n",
      "total songs= 601\n"
     ]
    }
   ],
   "source": [
    "totaltracks=0\n",
    "countlist=[]\n",
    "for i in playlists['items']:\n",
    "\n",
    "        print(i['name'])\n",
    "        \n",
    "        print(i['tracks']['total'])\n",
    "        \n",
    "        countlist.append(i['tracks']['total'])\n",
    "        totaltracks+=i['tracks']['total']\n",
    "\n",
    "        \n",
    "        print(' ')\n",
    "\n",
    "print('total songs=',totaltracks)"
   ]
  },
  {
   "cell_type": "code",
   "execution_count": 40,
   "id": "fd57eea6-f31a-4165-a6ba-71c3617adf80",
   "metadata": {},
   "outputs": [
    {
     "data": {
      "text/plain": [
       "[43, 7, 22, 50, 91, 41, 60, 13, 9, 36, 50, 179]"
      ]
     },
     "execution_count": 40,
     "metadata": {},
     "output_type": "execute_result"
    }
   ],
   "source": [
    "countlist"
   ]
  },
  {
   "cell_type": "code",
   "execution_count": 41,
   "id": "5ea979a3-a797-41fb-9445-bdc613afcc9c",
   "metadata": {},
   "outputs": [],
   "source": [
    "track_info=[]"
   ]
  },
  {
   "cell_type": "code",
   "execution_count": 42,
   "id": "33161bf3-62ca-4981-8497-c3ae5202890f",
   "metadata": {},
   "outputs": [],
   "source": [
    "def trackname(result):\n",
    "    for i, item in enumerate(result['items']):\n",
    "        \n",
    "        track = item['track']\n",
    "        \n",
    "        title=track['artists'][0]['name']+' '+track['name']\n",
    "        \n",
    "        #print(track['artists'][0]['name'], track['name'])\n",
    "        \n",
    "        track_info.append(title)"
   ]
  },
  {
   "cell_type": "code",
   "execution_count": 43,
   "id": "22127835-7149-42b5-b8bd-8215779f416e",
   "metadata": {},
   "outputs": [],
   "source": [
    "for playlist in playlists['items']:\n",
    "        #if playlist['owner']['id'] == username:\n",
    "            results = spotify.playlist(playlist['id'], fields=\"tracks,next\")\n",
    "            \n",
    "            tracks = results['tracks']\n",
    "            trackname(tracks)\n",
    "\n",
    "            \n",
    "            while tracks['next']:\n",
    "                tracks = spotify.next(tracks)\n",
    "                trackname(tracks)   "
   ]
  },
  {
   "cell_type": "code",
   "execution_count": 45,
   "id": "5d3776e4-8d9e-4c40-a333-6e2e6e910b3b",
   "metadata": {},
   "outputs": [],
   "source": [
    "totaltracks=len(track_info)"
   ]
  },
  {
   "cell_type": "code",
   "execution_count": 46,
   "id": "01a2e244-bc18-45f2-8e2c-9890dd5cd0ee",
   "metadata": {},
   "outputs": [],
   "source": [
    "def extractorP(playlistchoice):\n",
    "    j=playlistchoice\n",
    "    offset=0\n",
    "\n",
    "    for j in countlist[playlistchoice:]:\n",
    "    \n",
    "        offset+=j\n",
    "       \n",
    "    startOfP=totaltracks-offset\n",
    "    endOfP=totaltracks-(offset-countlist[playlistchoice])\n",
    "\n",
    "    desiredP=track_info[startOfP:endOfP]\n",
    "    \n",
    "    return desiredP\n",
    "    "
   ]
  },
  {
   "cell_type": "code",
   "execution_count": 47,
   "id": "9ba3e093-fdc8-4c58-820f-1ad5f56bf3c6",
   "metadata": {},
   "outputs": [],
   "source": [
    "TRACKS=extractorP(11)\n",
    "TRACKS"
   ]
  },
  {
   "cell_type": "code",
   "execution_count": null,
   "id": "26c527b7-0e92-4e74-b1fc-a27f04308dff",
   "metadata": {},
   "outputs": [],
   "source": [
    "#EXTRACT URL OF TRACKS THROUGH YOUTUBE API with query:"
   ]
  },
  {
   "cell_type": "code",
   "execution_count": 17,
   "id": "c9fc96f4-db86-46e2-9edd-588e86aa0b5e",
   "metadata": {},
   "outputs": [
    {
     "name": "stdout",
     "output_type": "stream",
     "text": [
      "Collecting google-api-python-client\n",
      "  Downloading google_api_python_client-2.57.0-py2.py3-none-any.whl (9.0 MB)\n",
      "Collecting httplib2<1dev,>=0.15.0\n",
      "  Downloading httplib2-0.20.4-py3-none-any.whl (96 kB)\n",
      "Requirement already satisfied: google-auth<3.0.0dev,>=1.19.0 in c:\\users\\abhis\\anaconda3\\lib\\site-packages (from google-api-python-client) (1.33.0)\n",
      "Collecting google-auth-httplib2>=0.1.0\n",
      "  Downloading google_auth_httplib2-0.1.0-py2.py3-none-any.whl (9.3 kB)\n",
      "Collecting google-api-core!=2.0.*,!=2.1.*,!=2.2.*,!=2.3.0,<3.0.0dev,>=1.31.5\n",
      "  Downloading google_api_core-2.8.2-py3-none-any.whl (114 kB)\n",
      "Collecting uritemplate<5,>=3.0.1\n",
      "  Downloading uritemplate-4.1.1-py2.py3-none-any.whl (10 kB)\n",
      "Collecting googleapis-common-protos<2.0dev,>=1.56.2\n",
      "  Downloading googleapis_common_protos-1.56.4-py2.py3-none-any.whl (211 kB)\n",
      "Requirement already satisfied: requests<3.0.0dev,>=2.18.0 in c:\\users\\abhis\\anaconda3\\lib\\site-packages (from google-api-core!=2.0.*,!=2.1.*,!=2.2.*,!=2.3.0,<3.0.0dev,>=1.31.5->google-api-python-client) (2.27.1)\n",
      "Requirement already satisfied: protobuf<5.0.0dev,>=3.15.0 in c:\\users\\abhis\\anaconda3\\lib\\site-packages (from google-api-core!=2.0.*,!=2.1.*,!=2.2.*,!=2.3.0,<3.0.0dev,>=1.31.5->google-api-python-client) (3.19.1)\n",
      "Requirement already satisfied: cachetools<5.0,>=2.0.0 in c:\\users\\abhis\\anaconda3\\lib\\site-packages (from google-auth<3.0.0dev,>=1.19.0->google-api-python-client) (4.2.2)\n",
      "Requirement already satisfied: setuptools>=40.3.0 in c:\\users\\abhis\\anaconda3\\lib\\site-packages (from google-auth<3.0.0dev,>=1.19.0->google-api-python-client) (61.2.0)\n",
      "Requirement already satisfied: rsa<5,>=3.1.4 in c:\\users\\abhis\\anaconda3\\lib\\site-packages (from google-auth<3.0.0dev,>=1.19.0->google-api-python-client) (4.7.2)\n",
      "Requirement already satisfied: pyasn1-modules>=0.2.1 in c:\\users\\abhis\\anaconda3\\lib\\site-packages (from google-auth<3.0.0dev,>=1.19.0->google-api-python-client) (0.2.8)\n",
      "Requirement already satisfied: six>=1.9.0 in c:\\users\\abhis\\anaconda3\\lib\\site-packages (from google-auth<3.0.0dev,>=1.19.0->google-api-python-client) (1.16.0)\n",
      "Requirement already satisfied: pyparsing!=3.0.0,!=3.0.1,!=3.0.2,!=3.0.3,<4,>=2.4.2 in c:\\users\\abhis\\anaconda3\\lib\\site-packages (from httplib2<1dev,>=0.15.0->google-api-python-client) (3.0.4)\n",
      "Requirement already satisfied: pyasn1<0.5.0,>=0.4.6 in c:\\users\\abhis\\anaconda3\\lib\\site-packages (from pyasn1-modules>=0.2.1->google-auth<3.0.0dev,>=1.19.0->google-api-python-client) (0.4.8)\n",
      "Requirement already satisfied: charset-normalizer~=2.0.0 in c:\\users\\abhis\\anaconda3\\lib\\site-packages (from requests<3.0.0dev,>=2.18.0->google-api-core!=2.0.*,!=2.1.*,!=2.2.*,!=2.3.0,<3.0.0dev,>=1.31.5->google-api-python-client) (2.0.4)\n",
      "Requirement already satisfied: idna<4,>=2.5 in c:\\users\\abhis\\anaconda3\\lib\\site-packages (from requests<3.0.0dev,>=2.18.0->google-api-core!=2.0.*,!=2.1.*,!=2.2.*,!=2.3.0,<3.0.0dev,>=1.31.5->google-api-python-client) (3.3)\n",
      "Requirement already satisfied: urllib3<1.27,>=1.21.1 in c:\\users\\abhis\\anaconda3\\lib\\site-packages (from requests<3.0.0dev,>=2.18.0->google-api-core!=2.0.*,!=2.1.*,!=2.2.*,!=2.3.0,<3.0.0dev,>=1.31.5->google-api-python-client) (1.26.9)\n",
      "Requirement already satisfied: certifi>=2017.4.17 in c:\\users\\abhis\\anaconda3\\lib\\site-packages (from requests<3.0.0dev,>=2.18.0->google-api-core!=2.0.*,!=2.1.*,!=2.2.*,!=2.3.0,<3.0.0dev,>=1.31.5->google-api-python-client) (2021.10.8)\n",
      "Installing collected packages: httplib2, googleapis-common-protos, uritemplate, google-auth-httplib2, google-api-core, google-api-python-client\n",
      "  Attempting uninstall: googleapis-common-protos\n",
      "    Found existing installation: googleapis-common-protos 1.53.0\n",
      "    Uninstalling googleapis-common-protos-1.53.0:\n",
      "      Successfully uninstalled googleapis-common-protos-1.53.0\n",
      "  Attempting uninstall: google-api-core\n",
      "    Found existing installation: google-api-core 1.25.1\n",
      "    Uninstalling google-api-core-1.25.1:\n",
      "      Successfully uninstalled google-api-core-1.25.1\n",
      "Successfully installed google-api-core-2.8.2 google-api-python-client-2.57.0 google-auth-httplib2-0.1.0 googleapis-common-protos-1.56.4 httplib2-0.20.4 uritemplate-4.1.1\n"
     ]
    },
    {
     "name": "stderr",
     "output_type": "stream",
     "text": [
      "ERROR: pip's dependency resolver does not currently take into account all the packages that are installed. This behaviour is the source of the following dependency conflicts.\n",
      "google-cloud-core 1.7.1 requires google-api-core<2.0.0dev,>=1.21.0, but you have google-api-core 2.8.2 which is incompatible.\n"
     ]
    }
   ],
   "source": [
    "! pip install google-api-python-client"
   ]
  },
  {
   "cell_type": "code",
   "execution_count": 68,
   "id": "f90c2a4f-4e37-4fd7-8b6e-df41794bee4e",
   "metadata": {},
   "outputs": [],
   "source": [
    "import googleapiclient.discovery\n",
    "\n",
    "api_name='youtube'\n",
    "api_version='v3'"
   ]
  },
  {
   "cell_type": "code",
   "execution_count": 52,
   "id": "362d4414-fc93-4a42-8a87-6e01b8755a54",
   "metadata": {},
   "outputs": [],
   "source": [
    "def switcher(api_key):\n",
    "    yt=googleapiclient.discovery.build( api_name, api_version, developerKey=api_key)"
   ]
  },
  {
   "cell_type": "code",
   "execution_count": null,
   "id": "cd9ffbf5-e956-48e1-a7fc-ce3b9d43eacc",
   "metadata": {},
   "outputs": [],
   "source": [
    "    \n",
    "URLlist=[]    \n",
    "count=0    \n",
    "apikeyList=['xxxxxxxxxxxxxx','yyyyyyyyyyyyyyyy'] # needs 12 api keys to fetch 1200 urls at max per day\n",
    "apiIndex=0\n",
    "yt=googleapiclient.discovery.build( api_name, api_version, developerKey=apikeyList[apiIndex])\n",
    "\n",
    "\n",
    "limit=[99, 198, 296] # current limit is 300. With 12 API keys, limit will be 1200 \n",
    "\n",
    "for Tindex in tqdm(range(len(TRACKS))):    \n",
    "    \n",
    "    if len(limit)!=0:\n",
    "        if Tindex==limit[0]:\n",
    "            \n",
    "            if len(limit)==1:\n",
    "                print(\"The number of tracks has exceeded the quota. Process ended at song number: \",Tindex)\n",
    "                break\n",
    "            else:\n",
    "                \n",
    "                print(\"Switching api\",Tindex)\n",
    "                apiIndex=apiIndex+1\n",
    "            \n",
    "                api_key=apikeyList[apiIndex]\n",
    "                yt=googleapiclient.discovery.build( api_name, api_version, developerKey=api_key)\n",
    "                \n",
    "        \n",
    "            \n",
    "                del limit[0]\n",
    "                \n",
    "\n",
    "    request=yt.search().list(\n",
    "    \n",
    "        part='id',\n",
    "        type='video',\n",
    "        q=TRACKS[Tindex],\n",
    "        maxResults=1,\n",
    "        fields='items(id(videoId))'\n",
    "        )\n",
    "\n",
    "    response=request.execute()\n",
    "\n",
    "    vidID=response['items'][0]['id']['videoId']\n",
    "\n",
    "    URL=\"https://www.youtube.com/watch?v=\"+vidID\n",
    "    \n",
    "    URLlist.append(URL)\n",
    "    \n",
    "    count+=1\n",
    "    #print(count)"
   ]
  },
  {
   "cell_type": "code",
   "execution_count": 70,
   "id": "53ca8403-15a1-41f6-9ab3-63f6e0f7bab2",
   "metadata": {},
   "outputs": [
    {
     "data": {
      "text/plain": [
       "179"
      ]
     },
     "execution_count": 70,
     "metadata": {},
     "output_type": "execute_result"
    }
   ],
   "source": [
    "len(URLlist)"
   ]
  },
  {
   "cell_type": "code",
   "execution_count": 71,
   "id": "abc09cd8-8b0c-47a0-84ed-ac0b6a5ec568",
   "metadata": {},
   "outputs": [],
   "source": [
    "URLdf=pd.DataFrame(URLlist)"
   ]
  },
  {
   "cell_type": "code",
   "execution_count": 72,
   "id": "879dd4f3-6f51-47c3-a3c8-d810aac1bad3",
   "metadata": {},
   "outputs": [],
   "source": [
    "URLdf.to_csv(\"url.csv\")"
   ]
  },
  {
   "cell_type": "code",
   "execution_count": null,
   "id": "d015fba5-6286-4aa5-9619-8daabe3d120e",
   "metadata": {},
   "outputs": [],
   "source": [
    "#PYTUBE - DOWNLOADING YT VIDEOS"
   ]
  },
  {
   "cell_type": "code",
   "execution_count": 74,
   "id": "ade01a0b-9fb3-4835-8090-394ab110cb5a",
   "metadata": {},
   "outputs": [
    {
     "name": "stdout",
     "output_type": "stream",
     "text": [
      "Collecting pytube\n",
      "  Downloading pytube-12.1.0-py3-none-any.whl (56 kB)\n",
      "Installing collected packages: pytube\n",
      "Successfully installed pytube-12.1.0\n"
     ]
    }
   ],
   "source": [
    "!pip install pytube"
   ]
  },
  {
   "cell_type": "code",
   "execution_count": 3,
   "id": "711c977f-e310-46ff-b3eb-0d124113a4ef",
   "metadata": {},
   "outputs": [],
   "source": [
    "#URLdf=pd.read_csv('url.csv')"
   ]
  },
  {
   "cell_type": "code",
   "execution_count": 4,
   "id": "3d379809-ca4c-413b-9404-bfb2f0c31015",
   "metadata": {},
   "outputs": [],
   "source": [
    "#URLlist=URLdf.values.tolist()"
   ]
  },
  {
   "cell_type": "code",
   "execution_count": null,
   "id": "09eeeb93-8e40-4964-8d80-2ae643d30244",
   "metadata": {},
   "outputs": [],
   "source": [
    "from pytube import YouTube\n",
    "\n",
    "count=0\n",
    "\n",
    "for url in URLlist:\n",
    "    youtube=YouTube(url)\n",
    "    \n",
    "    streams=youtube.streams.filter(only_audio=True).all()\n",
    "\n",
    "    stream = youtube.streams.get_by_itag(251)\n",
    "    stream.download()\n",
    "    count+=1\n",
    "    print(count)"
   ]
  },
  {
   "cell_type": "code",
   "execution_count": 75,
   "id": "35f57a21-7666-41a5-bd1d-29da4d453080",
   "metadata": {},
   "outputs": [
    {
     "data": {
      "text/plain": [
       "179"
      ]
     },
     "execution_count": 75,
     "metadata": {},
     "output_type": "execute_result"
    }
   ],
   "source": [
    "count"
   ]
  }
 ],
 "metadata": {
  "kernelspec": {
   "display_name": "Python 3 (ipykernel)",
   "language": "python",
   "name": "python3"
  },
  "language_info": {
   "codemirror_mode": {
    "name": "ipython",
    "version": 3
   },
   "file_extension": ".py",
   "mimetype": "text/x-python",
   "name": "python",
   "nbconvert_exporter": "python",
   "pygments_lexer": "ipython3",
   "version": "3.9.13"
  }
 },
 "nbformat": 4,
 "nbformat_minor": 5
}
